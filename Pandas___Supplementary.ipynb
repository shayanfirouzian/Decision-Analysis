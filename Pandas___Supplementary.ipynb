{
  "metadata": {
    "anaconda-cloud": {},
    "kernelspec": {
      "name": "python",
      "display_name": "Pyolite",
      "language": "python"
    },
    "language_info": {
      "codemirror_mode": {
        "name": "python",
        "version": 3
      },
      "file_extension": ".py",
      "mimetype": "text/x-python",
      "name": "python",
      "nbconvert_exporter": "python",
      "pygments_lexer": "ipython3",
      "version": "3.8"
    },
    "colab": {
      "provenance": []
    }
  },
  "nbformat_minor": 0,
  "nbformat": 4,
  "cells": [
    {
      "cell_type": "markdown",
      "source": [
        "<p>\n",
        "<b>Decision Analysis</b> Course | <b>Dr. Nazari</b><br>\n",
        "TA Python Tutorial _ Session 3<br>\n",
        "Notebook by <b>Shayan Firouzian</b> | Spring 2024 <p>"
      ],
      "metadata": {
        "id": "h2NqVNMqDCRN"
      }
    },
    {
      "cell_type": "markdown",
      "source": [
        "<h2>Table of Contents</h2>\n",
        "\n",
        "<div class=\"alert alert-block alert-info\" style=\"margin-top: 20px\">\n",
        "<ol>\n",
        "    <li><a href=\"https://#data_acquisition\">Data Acquisition</a>\n",
        "    <li><a href=\"https://#basic_insight\">Basic Insight of Dataset</a></li>\n",
        "</ol>\n",
        "\n",
        "</div>\n",
        "<hr>\n"
      ],
      "metadata": {
        "id": "p7OsZVHt3oei"
      }
    },
    {
      "cell_type": "markdown",
      "source": [
        "<h1 id=\"data_acquisition\">Data Acquisition</h1>\n",
        "<p>\n",
        "There are various formats for a dataset: .csv, .json, .xlsx etc.<br>\n",
        "<br>\n",
        "\n",
        "In our case, the Automobile Dataset is an online source, and it is in a CSV (**C**omma **S**eparated **V**alue) format. Let's use this dataset as an example to practice data reading.\n",
        "\n",
        "<ul>\n",
        "    <li>Data source: <a href=\"https://drive.google.com/file/d/1OgBt7ILtm0Dia0WHSuDzsREPD4i3H95B/view?usp=sharing\" target=\"_blank\">Click Here</a></li>\n",
        "</ul>\n",
        "</p>"
      ],
      "metadata": {
        "id": "ZzkPExe-3oej"
      }
    },
    {
      "cell_type": "code",
      "source": [
        "# import pandas library\n",
        "import pandas as pd"
      ],
      "metadata": {
        "tags": [],
        "trusted": true,
        "id": "yKoOiZNV3oek"
      },
      "execution_count": null,
      "outputs": []
    },
    {
      "cell_type": "markdown",
      "source": [
        "Assume you've downloaded the file in this address:\n",
        "\"C:\\Users\\Name\\Desktop\\Dataset.csv\""
      ],
      "metadata": {
        "id": "2AwL_Oib3oek"
      }
    },
    {
      "cell_type": "code",
      "source": [
        "path = \"C:\\Users\\Name\\Desktop\\Dataset.csv\"\n",
        "\n",
        "# Read the dataset file and assign it to variable \"df\"\n",
        "\n",
        "df = pd.read_csv(path, header=None)"
      ],
      "metadata": {
        "id": "ZhlAzjg93oel"
      },
      "execution_count": null,
      "outputs": []
    },
    {
      "cell_type": "markdown",
      "source": [
        "After reading the dataset, we can use the <code>dataframe.head(n)</code> method to check the top n rows of the dataframe, where n is an integer. Contrary to <code>dataframe.head(n)</code>, <code>dataframe.tail(n)</code> will show you the bottom n rows of the dataframe.\n"
      ],
      "metadata": {
        "id": "jRIOrGld3oel"
      }
    },
    {
      "cell_type": "code",
      "source": [
        "# show the first 5 rows using dataframe.head() method\n",
        "print(\"The first 5 rows of the dataframe\")\n",
        "df.head(5)"
      ],
      "metadata": {
        "id": "ROVSmskw3oem"
      },
      "execution_count": null,
      "outputs": []
    },
    {
      "cell_type": "markdown",
      "source": [
        "<h3>Add Headers</h3>\n",
        "<p>\n",
        "Take a look at our dataset. Pandas automatically set the header with an integer starting from 0.\n",
        "</p>\n",
        "<p>\n",
        "To better describe our data, we can introduce a header.\n",
        "</p>\n",
        "<p>\n",
        "Thus, we have to add headers manually.\n",
        "</p>\n",
        "<p>\n",
        "First, we create a list \"headers\" that include all column names in order.\n",
        "Then, we use <code>dataframe.columns = headers</code> to replace the headers with the list we created.\n",
        "</p>\n"
      ],
      "metadata": {
        "id": "plX-G1PB3oem"
      }
    },
    {
      "cell_type": "code",
      "source": [
        "# create headers list\n",
        "headers = [\"symboling\",\"normalized-losses\",\"make\",\"fuel-type\",\"aspiration\", \"num-of-doors\",\"body-style\",\n",
        "         \"drive-wheels\",\"engine-location\",\"wheel-base\", \"length\",\"width\",\"height\",\"curb-weight\",\"engine-type\",\n",
        "         \"num-of-cylinders\", \"engine-size\",\"fuel-system\",\"bore\",\"stroke\",\"compression-ratio\",\"horsepower\",\n",
        "         \"peak-rpm\",\"city-mpg\",\"highway-mpg\",\"price\"]\n",
        "print(\"headers\\n\", headers)"
      ],
      "metadata": {
        "id": "6leZVZs83oem"
      },
      "execution_count": null,
      "outputs": []
    },
    {
      "cell_type": "markdown",
      "source": [
        "We replace headers and recheck our dataframe:\n"
      ],
      "metadata": {
        "id": "Xw1kdZWo3oem"
      }
    },
    {
      "cell_type": "code",
      "source": [
        "df.columns = headers\n",
        "df.head(10)"
      ],
      "metadata": {
        "id": "kSAsgs5L3oen"
      },
      "execution_count": null,
      "outputs": []
    },
    {
      "cell_type": "markdown",
      "source": [
        "We need to replace the \"?\" symbol with NaN so the dropna() can remove the missing values:\n"
      ],
      "metadata": {
        "id": "9nQzBjL93oen"
      }
    },
    {
      "cell_type": "code",
      "source": [
        "df1=df.replace('?',np.NaN)\n"
      ],
      "metadata": {
        "id": "3BFLBtWX3oen"
      },
      "execution_count": null,
      "outputs": []
    },
    {
      "cell_type": "markdown",
      "source": [
        "We can drop missing values along the column \"price\" as follows:\n"
      ],
      "metadata": {
        "id": "hYwOdKEC3oen"
      }
    },
    {
      "cell_type": "code",
      "source": [
        "df=df1.dropna(subset=[\"price\"], axis=0)\n",
        "df.head(20)"
      ],
      "metadata": {
        "id": "xf9RxLr23oen"
      },
      "execution_count": null,
      "outputs": []
    },
    {
      "cell_type": "markdown",
      "source": [
        "Now, we have successfully read the raw dataset and added the correct headers into the dataframe.\n"
      ],
      "metadata": {
        "id": "Hu899QNN3oen"
      }
    },
    {
      "cell_type": "markdown",
      "source": [
        "<h2>Save Dataset</h2>\n",
        "<p>\n",
        "Correspondingly, Pandas enables us to save the dataset to csv. By using the <code>dataframe.to_csv()</code> method, you can add the file path and name along with quotation marks in the brackets.\n",
        "</p>\n",
        "<p>\n",
        "For example, if you would save the dataframe <b>df</b> as <b>automobile.csv</b> to your local machine, you may use the syntax below, where <code>index = False</code> means the row names will not be written.\n",
        "</p>\n"
      ],
      "metadata": {
        "id": "MjomBArm3oen"
      }
    },
    {
      "cell_type": "raw",
      "source": [
        "df.to_csv(\"automobile.csv\", index=False)"
      ],
      "metadata": {
        "id": "9KPOuHoa3oeo"
      }
    },
    {
      "cell_type": "markdown",
      "source": [
        "We can also read and save other file formats. We can use similar functions like **`pd.read_csv()`** and **`df.to_csv()`** for other data formats. The functions are listed in the following table:\n"
      ],
      "metadata": {
        "id": "UGZgUc3M3oeo"
      }
    },
    {
      "cell_type": "markdown",
      "source": [
        "<h2>Read/Save Other Data Formats</h2>\n",
        "\n",
        "| Data Formate |        Read       |            Save |\n",
        "| ------------ | :---------------: | --------------: |\n",
        "| csv          |  `pd.read_csv()`  |   `df.to_csv()` |\n",
        "| json         |  `pd.read_json()` |  `df.to_json()` |\n",
        "| excel        | `pd.read_excel()` | `df.to_excel()` |\n",
        "| hdf          |  `pd.read_hdf()`  |   `df.to_hdf()` |\n",
        "| sql          |  `pd.read_sql()`  |   `df.to_sql()` |\n",
        "| ...          |        ...        |             ... |\n"
      ],
      "metadata": {
        "id": "ds0Q7eyN3oeo"
      }
    },
    {
      "cell_type": "markdown",
      "source": [
        "<h1 id=\"basic_insight\">Basic Insight of Dataset</h1>\n",
        "<p>\n",
        "After reading data into Pandas dataframe, it is time for us to explore the dataset.<br>\n",
        "\n",
        "There are several ways to obtain essential insights of the data to help us better understand our dataset.\n",
        "\n",
        "</p>\n"
      ],
      "metadata": {
        "id": "su3NSTbw3oeo"
      }
    },
    {
      "cell_type": "markdown",
      "source": [
        "<h2>Describe</h2>\n",
        "If we would like to get a statistical summary of each column e.g. count, column mean value, column standard deviation, etc., we use the describe method:\n"
      ],
      "metadata": {
        "id": "pQDftbDe3oet"
      }
    },
    {
      "cell_type": "raw",
      "source": [
        "dataframe.describe()"
      ],
      "metadata": {
        "id": "fplw2Z1C3oet"
      }
    },
    {
      "cell_type": "markdown",
      "source": [
        "This method will provide various summary statistics, excluding <code>NaN</code> (Not a Number) values.\n"
      ],
      "metadata": {
        "id": "IZNdgEki3oet"
      }
    },
    {
      "cell_type": "code",
      "source": [
        "df.describe()"
      ],
      "metadata": {
        "id": "gk7pm1_M3oet"
      },
      "execution_count": null,
      "outputs": []
    },
    {
      "cell_type": "markdown",
      "source": [
        "<p>\n",
        "This shows the statistical summary of all numeric-typed (int, float) columns.<br>\n",
        "\n",
        "For example, the attribute \"symboling\" has 205 counts, the mean value of this column is 0.83, the standard deviation is 1.25, the minimum value is -2, 25th percentile is 0, 50th percentile is 1, 75th percentile is 2, and the maximum value is 3. <br>\n",
        "\n",
        "However, what if we would also like to check all the columns including those that are of type object? <br><br>\n",
        "\n",
        "You can add an argument <code>include = \"all\"</code> inside the bracket. Let's try it again.\n",
        "\n",
        "</p>\n"
      ],
      "metadata": {
        "id": "c-2Oro2-3oet"
      }
    },
    {
      "cell_type": "code",
      "source": [
        "# describe all the columns in \"df\"\n",
        "df.describe(include = \"all\")"
      ],
      "metadata": {
        "id": "YOH2-oN33oet"
      },
      "execution_count": null,
      "outputs": []
    },
    {
      "cell_type": "markdown",
      "source": [
        "<p>\n",
        "Now it provides the statistical summary of all the columns, including object-typed attributes.<br>\n",
        "\n",
        "We can now see how many unique values there, which one is the top value and the frequency of top value in the object-typed columns.<br>\n",
        "\n",
        "Some values in the table above show as \"NaN\". This is because those numbers are not available regarding a particular column type.<br>\n",
        "\n",
        "</p>\n"
      ],
      "metadata": {
        "id": "-64wenvh3oet"
      }
    },
    {
      "cell_type": "markdown",
      "source": [
        "<h2>Info</h2>\n",
        "Another method you can use to check your dataset is:\n"
      ],
      "metadata": {
        "id": "Xs8JDS3X3oeu"
      }
    },
    {
      "cell_type": "raw",
      "source": [
        "dataframe.info()"
      ],
      "metadata": {
        "id": "WEvjDJ-K3oeu"
      }
    },
    {
      "cell_type": "markdown",
      "source": [
        "It provides a concise summary of your DataFrame.\n",
        "\n",
        "This method prints information about a DataFrame including the index dtype and columns, non-null values and memory usage.\n"
      ],
      "metadata": {
        "id": "vw_YNwnb3oeu"
      }
    },
    {
      "cell_type": "code",
      "source": [
        "# look at the info of \"df\"\n",
        "df.info()"
      ],
      "metadata": {
        "id": "Io5UrD-d3oeu"
      },
      "execution_count": null,
      "outputs": []
    }
  ]
}