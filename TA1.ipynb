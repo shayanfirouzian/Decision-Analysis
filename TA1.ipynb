{
  "nbformat": 4,
  "nbformat_minor": 0,
  "metadata": {
    "colab": {
      "provenance": [],
      "authorship_tag": "ABX9TyPXDdSPIqgEHhqaKNHauhAJ",
      "include_colab_link": true
    },
    "kernelspec": {
      "name": "python3",
      "display_name": "Python 3"
    },
    "language_info": {
      "name": "python"
    }
  },
  "cells": [
    {
      "cell_type": "markdown",
      "metadata": {
        "id": "view-in-github",
        "colab_type": "text"
      },
      "source": [
        "<a href=\"https://colab.research.google.com/github/shayanfirouzian/Decision-Analysis/blob/main/TA1.ipynb\" target=\"_parent\"><img src=\"https://colab.research.google.com/assets/colab-badge.svg\" alt=\"Open In Colab\"/></a>"
      ]
    },
    {
      "cell_type": "code",
      "execution_count": 1,
      "metadata": {
        "id": "tJDJVF9Vsl3j"
      },
      "outputs": [],
      "source": [
        "import pandas as pd"
      ]
    },
    {
      "cell_type": "markdown",
      "source": [
        "![image.png](data:image/png;base64,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)"
      ],
      "metadata": {
        "id": "cWnJaneR78aO"
      }
    },
    {
      "cell_type": "code",
      "source": [
        "df1 = pd.DataFrame({\n",
        "  \"Distance from City Center\": [3.2, 4.2, 3.2, 4.5, 4.1, 3.5],\n",
        "  \"Price\": [4700, 6000, 1375, 5680, 2600, 4100],\n",
        "  \"Type\":['B', 'C', 'B', 'A', 'B', 'A'],\n",
        "  \"Rating\":[5, 5, 3, 5, 3, 4],\n",
        "  \"Amenities\":['High', 'High', 'Low', 'High', 'Low', 'High']\n",
        "})\n",
        "# Or\n",
        "data=[[3.2, 4700, 'B', 5, 'High'],\n",
        "[4.2, 6000, 'C', 5, 'High'],\n",
        "[3.2, 1375, 'B', 3, 'Low'],\n",
        "[4.5, 5680, 'A', 5, 'High'],\n",
        "[4.1, 2600, 'B', 3, 'Low'],\n",
        "[3.5, 4100, 'A', 4, 'High']]\n",
        "Criteria=['Distance from City Center', 'Price', 'Type', 'Rating', 'Amenities']\n",
        "df2 = pd.DataFrame(data, columns = Criteria)"
      ],
      "metadata": {
        "id": "jToN2Jze1L7y"
      },
      "execution_count": 11,
      "outputs": []
    },
    {
      "cell_type": "code",
      "source": [
        "print(df1)"
      ],
      "metadata": {
        "colab": {
          "base_uri": "https://localhost:8080/"
        },
        "id": "wDkhk4HS3IeZ",
        "outputId": "65f40d10-c771-4462-e283-bf0a5fb1fd15"
      },
      "execution_count": 7,
      "outputs": [
        {
          "output_type": "stream",
          "name": "stdout",
          "text": [
            "   Distance from City Center  Price Type  Rating Amenities\n",
            "0                        3.2   4700    B       5      High\n",
            "1                        4.2   6000    C       5      High\n",
            "2                        3.2   1375    B       3       Low\n",
            "3                        4.5   5680    A       5      High\n",
            "4                        4.1   2600    B       3       Low\n",
            "5                        3.5   4100    A       4      High\n"
          ]
        }
      ]
    },
    {
      "cell_type": "code",
      "source": [
        "print(df2)"
      ],
      "metadata": {
        "colab": {
          "base_uri": "https://localhost:8080/"
        },
        "id": "Os4DWYHe4-ya",
        "outputId": "847a4e26-01e3-4f22-9f7f-c0245eaf4187"
      },
      "execution_count": 12,
      "outputs": [
        {
          "output_type": "stream",
          "name": "stdout",
          "text": [
            "   Distance from City Center  Price Type  Rating Amenities\n",
            "0                        3.2   4700    B       5      High\n",
            "1                        4.2   6000    C       5      High\n",
            "2                        3.2   1375    B       3       Low\n",
            "3                        4.5   5680    A       5      High\n",
            "4                        4.1   2600    B       3       Low\n",
            "5                        3.5   4100    A       4      High\n"
          ]
        }
      ]
    },
    {
      "cell_type": "code",
      "source": [
        "Alternatives = ['Hotel A', 'Hotel B', 'Hotel C', 'Hotel D', 'Hotel E', 'Hotel F']"
      ],
      "metadata": {
        "id": "AKSggtWH5Muy"
      },
      "execution_count": 13,
      "outputs": []
    },
    {
      "cell_type": "code",
      "source": [
        "df1.index = Alternatives\n",
        "print(df1)"
      ],
      "metadata": {
        "colab": {
          "base_uri": "https://localhost:8080/"
        },
        "id": "Q_vFxGPr5nDa",
        "outputId": "45596f22-86f6-4c44-ada2-0a5bc6ed5060"
      },
      "execution_count": 15,
      "outputs": [
        {
          "output_type": "stream",
          "name": "stdout",
          "text": [
            "         Distance from City Center  Price Type  Rating Amenities\n",
            "Hotel A                        3.2   4700    B       5      High\n",
            "Hotel B                        4.2   6000    C       5      High\n",
            "Hotel C                        3.2   1375    B       3       Low\n",
            "Hotel D                        4.5   5680    A       5      High\n",
            "Hotel E                        4.1   2600    B       3       Low\n",
            "Hotel F                        3.5   4100    A       4      High\n"
          ]
        }
      ]
    },
    {
      "cell_type": "code",
      "source": [
        "for i in range(len(df1['Type'])):\n",
        "  if df1['Type'][i]=='A':\n",
        "    df1['Type'][i]=3\n",
        "  elif df1['Type'][i]=='B':\n",
        "    df1['Type'][i]=2\n",
        "  elif df1['Type'][i]=='C':\n",
        "    df1['Type'][i]=1\n",
        "  else:\n",
        "    pass"
      ],
      "metadata": {
        "id": "vKkYZRG17nDS"
      },
      "execution_count": null,
      "outputs": []
    },
    {
      "cell_type": "code",
      "source": [
        "print(df1)"
      ],
      "metadata": {
        "id": "BpPIpudD7o8w"
      },
      "execution_count": null,
      "outputs": []
    }
  ]
}